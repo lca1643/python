# script_1_4_1

import numpy as np
import pandas as pd
import matplotlib.pyplot as plt

# Se generan 200 números aleatorios y se crea el histograma correspondiente.
# Generar datos aleatorios con distribución normal
np.random.seed(42)  # Para reproducibilidad
datos = np.random.normal(loc=50, scale=10, size=200)  # Media=50, Desviación estándar=10

# Crear un DataFrame con los datos
df = pd.DataFrame(datos, columns=['Valores'])

# Crear un histograma para visualizar las frecuencias
plt.figure(figsize=(8, 5))
plt.hist(df['Valores'], bins=15, color='skyblue', edgecolor='black', alpha=0.7)
plt.xlabel('Valor')
plt.ylabel('Frecuencia')
plt.title('Gráfico de Frecuencias')
plt.grid(axis='y', linestyle='--', alpha=0.7)

# Mostrar gráfico
plt.show()
